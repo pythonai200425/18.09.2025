{
 "cells": [
  {
   "cell_type": "code",
   "execution_count": 2,
   "id": "f5ee18af-66b8-4d36-af67-0870d1e86173",
   "metadata": {},
   "outputs": [],
   "source": [
    "import pandas as pd\n",
    "import numpy as np\n",
    "import matplotlib.pyplot as plt\n",
    "from IPython.display import display"
   ]
  },
  {
   "cell_type": "code",
   "execution_count": 5,
   "id": "a18de0e7-3622-4868-9f30-64f6a36d131a",
   "metadata": {},
   "outputs": [
    {
     "data": {
      "text/plain": [
       "0     10\n",
       "1    100\n",
       "2     15\n",
       "3     35\n",
       "4     35\n",
       "dtype: int64"
      ]
     },
     "metadata": {},
     "output_type": "display_data"
    },
    {
     "data": {
      "text/plain": [
       "USA       1776\n",
       "CANADA    1867\n",
       "MEXICO    1821\n",
       "dtype: int64"
      ]
     },
     "execution_count": 5,
     "metadata": {},
     "output_type": "execute_result"
    }
   ],
   "source": [
    "# panda series\n",
    "\n",
    "pd_series = pd.Series([10, 100, 15, 35, 35])\n",
    "display(pd_series)\n",
    "\n",
    "pd_series = pd.Series([1776, 1867, 1821], index=[\"USA\", \"CANADA\", \"MEXICO\"])\n",
    "pd_series\n",
    "\n",
    "{\n",
    "    \"Apple\": 1.2,\n",
    "    \"Banana\": 0.8,\n",
    "    \"Orange\": 1.5,\n",
    "    \"Mango\": 2.5,\n",
    "    \"Grapes\": 3.0,\n",
    "    \"Watermelon\": 4.5,\n",
    "    \"Pineapple\": 3.8\n",
    "}\n",
    "'''\n",
    "create pd.Series\n",
    "find the cost of Grapes using loc\n",
    "print all indexes\n",
    "print all values\n",
    "print first 3 rows (using iloc)\n",
    "'''\n"
   ]
  }
 ],
 "metadata": {
  "kernelspec": {
   "display_name": "Python 3 (ipykernel)",
   "language": "python",
   "name": "python3"
  },
  "language_info": {
   "codemirror_mode": {
    "name": "ipython",
    "version": 3
   },
   "file_extension": ".py",
   "mimetype": "text/x-python",
   "name": "python",
   "nbconvert_exporter": "python",
   "pygments_lexer": "ipython3",
   "version": "3.11.7"
  }
 },
 "nbformat": 4,
 "nbformat_minor": 5
}
