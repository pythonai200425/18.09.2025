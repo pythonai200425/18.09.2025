{
 "cells": [
  {
   "cell_type": "code",
   "execution_count": 2,
   "id": "f5ee18af-66b8-4d36-af67-0870d1e86173",
   "metadata": {},
   "outputs": [],
   "source": [
    "import pandas as pd\n",
    "import numpy as np\n",
    "import matplotlib.pyplot as plt\n",
    "from IPython.display import display"
   ]
  },
  {
   "cell_type": "code",
   "execution_count": 5,
   "id": "a18de0e7-3622-4868-9f30-64f6a36d131a",
   "metadata": {},
   "outputs": [
    {
     "data": {
      "text/plain": [
       "0     10\n",
       "1    100\n",
       "2     15\n",
       "3     35\n",
       "4     35\n",
       "dtype: int64"
      ]
     },
     "metadata": {},
     "output_type": "display_data"
    },
    {
     "data": {
      "text/plain": [
       "USA       1776\n",
       "CANADA    1867\n",
       "MEXICO    1821\n",
       "dtype: int64"
      ]
     },
     "execution_count": 5,
     "metadata": {},
     "output_type": "execute_result"
    }
   ],
   "source": [
    "# panda series\n",
    "\n",
    "pd_series = pd.Series([10, 100, 15, 35, 35])\n",
    "display(pd_series)\n",
    "\n",
    "pd_series = pd.Series([1776, 1867, 1821], index=[\"USA\", \"CANADA\", \"MEXICO\"])\n",
    "pd_series\n",
    "\n",
    "{\n",
    "    \"Apple\": 1.2,\n",
    "    \"Banana\": 0.8,\n",
    "    \"Orange\": 1.5,\n",
    "    \"Mango\": 2.5,\n",
    "    \"Grapes\": 3.0,\n",
    "    \"Watermelon\": 4.5,\n",
    "    \"Pineapple\": 3.8\n",
    "}\n",
    "'''\n",
    "create pd.Series\n",
    "find the cost of Grapes using loc\n",
    "print all indexes\n",
    "print all values\n",
    "print first 3 rows (using iloc)\n",
    "'''\n"
   ]
  },
  {
   "cell_type": "code",
   "execution_count": 11,
   "id": "01b128ca-6545-4fae-bb4d-cdd06f5b0860",
   "metadata": {},
   "outputs": [
    {
     "data": {
      "text/plain": [
       "Apple         1.2\n",
       "Banana        0.8\n",
       "Orange        1.5\n",
       "Mango         2.5\n",
       "Grapes        3.0\n",
       "Watermelon    4.5\n",
       "Pineapple     3.8\n",
       "dtype: float64"
      ]
     },
     "metadata": {},
     "output_type": "display_data"
    },
    {
     "name": "stdout",
     "output_type": "stream",
     "text": [
      "\n",
      "Cost of Grapes: 3.0\n",
      "Cost of Grapes: 3.0\n",
      "\n",
      "Indexes: Index(['Apple', 'Banana', 'Orange', 'Mango', 'Grapes', 'Watermelon',\n",
      "       'Pineapple'],\n",
      "      dtype='object')\n",
      "\n",
      "Values: [1.2 0.8 1.5 2.5 3.  4.5 3.8]\n",
      "\n",
      "First 3 rows:\n",
      " Apple     1.2\n",
      "Banana    0.8\n",
      "Orange    1.5\n",
      "dtype: float64\n"
     ]
    }
   ],
   "source": [
    "\n",
    "# create the Series\n",
    "prices = pd.Series({\n",
    "    \"Apple\": 1.2,\n",
    "    \"Banana\": 0.8,\n",
    "    \"Orange\": 1.5,\n",
    "    \"Mango\": 2.5,\n",
    "    \"Grapes\": 3.0,\n",
    "    \"Watermelon\": 4.5,\n",
    "    \"Pineapple\": 3.8\n",
    "})\n",
    "\n",
    "display(prices)\n",
    "print()\n",
    "\n",
    "# find the cost of Grapes using loc\n",
    "print(\"Cost of Grapes:\", prices[\"Grapes\"])  # does not work with df\n",
    "print(\"Cost of Grapes:\", prices.loc[\"Grapes\"])\n",
    "print()\n",
    "\n",
    "# print all indexes\n",
    "print(\"Indexes:\", prices.index)\n",
    "print()\n",
    "\n",
    "# print all values\n",
    "print(\"Values:\", prices.values)\n",
    "print()\n",
    "\n",
    "# print first 3 rows (using iloc)\n",
    "print(\"First 3 rows:\\n\", prices.iloc[:3])"
   ]
  },
  {
   "cell_type": "code",
   "execution_count": 13,
   "id": "9c70d7ec-a089-48b0-87ee-fbbfff7381ec",
   "metadata": {},
   "outputs": [
    {
     "data": {
      "text/html": [
       "<div>\n",
       "<style scoped>\n",
       "    .dataframe tbody tr th:only-of-type {\n",
       "        vertical-align: middle;\n",
       "    }\n",
       "\n",
       "    .dataframe tbody tr th {\n",
       "        vertical-align: top;\n",
       "    }\n",
       "\n",
       "    .dataframe thead th {\n",
       "        text-align: right;\n",
       "    }\n",
       "</style>\n",
       "<table border=\"1\" class=\"dataframe\">\n",
       "  <thead>\n",
       "    <tr style=\"text-align: right;\">\n",
       "      <th></th>\n",
       "      <th>Jan</th>\n",
       "      <th>Feb</th>\n",
       "      <th>Mar</th>\n",
       "    </tr>\n",
       "  </thead>\n",
       "  <tbody>\n",
       "    <tr>\n",
       "      <th>CA</th>\n",
       "      <td>8</td>\n",
       "      <td>24</td>\n",
       "      <td>67</td>\n",
       "    </tr>\n",
       "    <tr>\n",
       "      <th>NY</th>\n",
       "      <td>87</td>\n",
       "      <td>79</td>\n",
       "      <td>48</td>\n",
       "    </tr>\n",
       "    <tr>\n",
       "      <th>AZ</th>\n",
       "      <td>10</td>\n",
       "      <td>94</td>\n",
       "      <td>52</td>\n",
       "    </tr>\n",
       "    <tr>\n",
       "      <th>TX</th>\n",
       "      <td>98</td>\n",
       "      <td>53</td>\n",
       "      <td>66</td>\n",
       "    </tr>\n",
       "  </tbody>\n",
       "</table>\n",
       "</div>"
      ],
      "text/plain": [
       "    Jan  Feb  Mar\n",
       "CA    8   24   67\n",
       "NY   87   79   48\n",
       "AZ   10   94   52\n",
       "TX   98   53   66"
      ]
     },
     "execution_count": 13,
     "metadata": {},
     "output_type": "execute_result"
    }
   ],
   "source": [
    "import numpy as np\n",
    "\n",
    "np.random.seed(100)\n",
    "my_data = np.random.randint(0, 101, (4, 3))\n",
    "row_index = ['CA', 'NY', 'AZ', 'TX']\n",
    "col_names = ['Jan', 'Feb', 'Mar']\n",
    "\n",
    "# Create DataFrame\n",
    "df = pd.DataFrame(my_data, index=row_index, columns=col_names)\n",
    "df\n",
    "\n",
    "# create grades df\n",
    "# 1\n",
    "# index = Alice, Bob, Martin, Shi, Dvir, Shlomo\n",
    "# columns = 'Math', 'Physics', 'Chemistry', 'Biology'\n",
    "# grades: seed(42)\n",
    "# grades values in between 10-100\n",
    "# 2 change Shi grade in Physics to 100. using at\n",
    "# 3 print all Math column\n",
    "# 4 print max grade of Chemistry\n",
    "# 5 print min grade of Bioligy\n",
    "# 6 print the avg of Physics\n",
    "# 7 print all grades of Bob\n",
    "# 8 print the avg grades of Bob using loc\n",
    "# 9 print the entire avg of all of the df\n",
    "# A print the df with only grades of Math Bioligy\n",
    "# B print the last student using iloc\n",
    "\n",
    "# --- later\n",
    "# B print all students and their grades for students that got Math > 80\n",
    "# C add column 'math-genie' if the student math grade is bigger than 90 write 'genie' otherwise write 'human'\n",
    "# D create column 'min-grade' and populate the min grade of each student, using apply (row)\n",
    "# E create column 'avg-grade' and populate the avg grade of each student, using apply (row)\n",
    "# F add column 'Excellent' , put V in this column for students with avg > 80 and X for others, using apply (row)\n",
    "\n"
   ]
  }
 ],
 "metadata": {
  "kernelspec": {
   "display_name": "Python 3 (ipykernel)",
   "language": "python",
   "name": "python3"
  },
  "language_info": {
   "codemirror_mode": {
    "name": "ipython",
    "version": 3
   },
   "file_extension": ".py",
   "mimetype": "text/x-python",
   "name": "python",
   "nbconvert_exporter": "python",
   "pygments_lexer": "ipython3",
   "version": "3.11.7"
  }
 },
 "nbformat": 4,
 "nbformat_minor": 5
}
